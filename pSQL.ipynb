{
 "cells": [
  {
   "cell_type": "code",
   "execution_count": 24,
   "metadata": {},
   "outputs": [],
   "source": [
    "import psycopg2 as pg\n",
    "import matplotlib.pyplot as plt\n",
    "from matplotlib.pyplot import plot, ion, show\n",
    "import numpy as np\n",
    "import sys\n",
    "ion()\n"
   ]
  },
  {
   "cell_type": "code",
   "execution_count": 25,
   "metadata": {},
   "outputs": [],
   "source": [
    "con = pg.connect(\"host='data-challenge.cpzsedc9pony.us-west-2.redshift.amazonaws.com' dbname='dev' user='' port='' password=''\")\n"
   ]
  },
  {
   "cell_type": "code",
   "execution_count": 26,
   "metadata": {
    "collapsed": true
   },
   "outputs": [],
   "source": [
    "cur = con.cursor()\n"
   ]
  },
  {
   "cell_type": "code",
   "execution_count": 27,
   "metadata": {
    "collapsed": true
   },
   "outputs": [],
   "source": [
    "cur.execute(\"\"\"select eventname,count(*) from ios_events group by eventname\"\"\")\n"
   ]
  },
  {
   "cell_type": "code",
   "execution_count": 28,
   "metadata": {},
   "outputs": [
    {
     "name": "stdout",
     "output_type": "stream",
     "text": [
      "textsearch=34262927.0\n"
     ]
    }
   ],
   "source": [
    "row_share_search = cur.fetchall()\n",
    "rarray = np.array(row_share_search)\n",
    "row_search=rarray[0,1].astype(np.float)\n",
    "row_share=rarray[1,1].astype(np.float)\n",
    "print (row_share_search[0][0]+\"=\" + str(row_search) )"
   ]
  },
  {
   "cell_type": "code",
   "execution_count": 29,
   "metadata": {},
   "outputs": [
    {
     "name": "stdout",
     "output_type": "stream",
     "text": [
      "share=22512088.0\n"
     ]
    }
   ],
   "source": [
    "print (row_share_search[1][0]+\"=\" + str(row_share) )\n"
   ]
  },
  {
   "cell_type": "code",
   "execution_count": 30,
   "metadata": {},
   "outputs": [
    {
     "name": "stdout",
     "output_type": "stream",
     "text": [
      "share rate = 0.396513994756\n"
     ]
    }
   ],
   "source": [
    "share_ra=row_share/(row_search+row_share)\n",
    "print(\"share rate = \" + str(share_ra))\n"
   ]
  },
  {
   "cell_type": "code",
   "execution_count": 31,
   "metadata": {},
   "outputs": [],
   "source": [
    "\n",
    "cur.execute(\"\"\"select tags ,eventname, count(*) as \"Shared rates \n",
    "of tags\" from ios_events where ios_events.category='search' \n",
    "and ios_events.eventname='share' group by tags,eventname \n",
    "order by count(*) DESC limit 1000\"\"\")\n"
   ]
  },
  {
   "cell_type": "code",
   "execution_count": 32,
   "metadata": {
    "collapsed": true
   },
   "outputs": [],
   "source": [
    "most_search=cur.fetchall()\n",
    "m_s_array = np.array(most_search)\n",
    "share_rate_top1000=[]"
   ]
  },
  {
   "cell_type": "code",
   "execution_count": 33,
   "metadata": {
    "collapsed": true
   },
   "outputs": [],
   "source": [
    "for ii in range(len(most_search)):\n",
    "    share_rate_top1000.append(m_s_array[ii,2].astype(np.float)/row_share)\n",
    "#    print (share_rate_top1000[ii])\n"
   ]
  },
  {
   "cell_type": "code",
   "execution_count": 34,
   "metadata": {},
   "outputs": [
    {
     "name": "stdout",
     "output_type": "stream",
     "text": [
      "0.00328810015313\n"
     ]
    }
   ],
   "source": [
    "print (share_rate_top1000[2])\n",
    "\n"
   ]
  },
  {
   "cell_type": "code",
   "execution_count": 35,
   "metadata": {},
   "outputs": [
    {
     "name": "stdout",
     "output_type": "stream",
     "text": [
      "Number of unique search terms=2729143.0\n"
     ]
    }
   ],
   "source": [
    "cur.execute(\"\"\"select count(Distinct tags) from ios_events\"\"\")\n",
    "distincst_tags=cur.fetchall()\n",
    "No_dist_tags=(np.array(distincst_tags)).astype(np.float)[0][0]\n",
    "print (\"Number of unique search terms=\" + str(No_dist_tags))\n"
   ]
  },
  {
   "cell_type": "code",
   "execution_count": 36,
   "metadata": {
    "collapsed": true
   },
   "outputs": [],
   "source": [
    "%matplotlib inline"
   ]
  },
  {
   "cell_type": "code",
   "execution_count": 37,
   "metadata": {},
   "outputs": [
    {
     "data": {
      "image/png": "[encoded data removed]",
      "text/plain": [
       "<matplotlib.figure.Figure at 0x10db34990>"
      ]
     },
     "metadata": {},
     "output_type": "display_data"
    },
    {
     "data": {
      "text/plain": [
       "<matplotlib.text.Text at 0x1056622d0>"
      ]
     },
     "execution_count": 37,
     "metadata": {},
     "output_type": "execute_result"
    },
    {
     "data": {
      "image/png": "[encoded data removed]",
      "text/plain": [
       "<matplotlib.figure.Figure at 0x10562a910>"
      ]
     },
     "metadata": {},
     "output_type": "display_data"
    }
   ],
   "source": [
    "plt.figure(0)\n",
    "plt.plot(share_rate_top1000, '.' , color='red')\n",
    "plt.show()\n",
    "plt.title('share ratio (to total share)')\n",
    "plt.xlabel('tags')\n",
    "plt.ylabel('share rate to total share')\n",
    "#plt.savefig('share.pdf',format='pdf')\n"
   ]
  },
  {
   "cell_type": "code",
   "execution_count": 38,
   "metadata": {},
   "outputs": [
    {
     "ename": "IndexError",
     "evalue": "index 0 is out of bounds for axis 0 with size 0",
     "output_type": "error",
     "traceback": [
      "\u001b[0;31m---------------------------------------------------------------------------\u001b[0m",
      "\u001b[0;31mIndexError\u001b[0m                                Traceback (most recent call last)",
      "\u001b[0;32m<ipython-input-38-2a0587f4183b>\u001b[0m in \u001b[0;36m<module>\u001b[0;34m()\u001b[0m\n\u001b[1;32m      1\u001b[0m \u001b[0mdistinct_gif\u001b[0m\u001b[0;34m=\u001b[0m\u001b[0mcur\u001b[0m\u001b[0;34m.\u001b[0m\u001b[0mfetchall\u001b[0m\u001b[0;34m(\u001b[0m\u001b[0;34m)\u001b[0m\u001b[0;34m\u001b[0m\u001b[0m\n\u001b[0;32m----> 2\u001b[0;31m \u001b[0mNo_dist_gif\u001b[0m\u001b[0;34m=\u001b[0m\u001b[0;34m(\u001b[0m\u001b[0mnp\u001b[0m\u001b[0;34m.\u001b[0m\u001b[0marray\u001b[0m\u001b[0;34m(\u001b[0m\u001b[0mdistinct_gif\u001b[0m\u001b[0;34m)\u001b[0m\u001b[0;34m)\u001b[0m\u001b[0;34m.\u001b[0m\u001b[0mastype\u001b[0m\u001b[0;34m(\u001b[0m\u001b[0mnp\u001b[0m\u001b[0;34m.\u001b[0m\u001b[0mfloat\u001b[0m\u001b[0;34m)\u001b[0m\u001b[0;34m[\u001b[0m\u001b[0;36m0\u001b[0m\u001b[0;34m]\u001b[0m\u001b[0;34m[\u001b[0m\u001b[0;36m0\u001b[0m\u001b[0;34m]\u001b[0m\u001b[0;34m\u001b[0m\u001b[0m\n\u001b[0m\u001b[1;32m      3\u001b[0m \u001b[0;32mprint\u001b[0m \u001b[0;34m(\u001b[0m\u001b[0;34m\"Number of unique gifs =\"\u001b[0m \u001b[0;34m+\u001b[0m \u001b[0mstr\u001b[0m\u001b[0;34m(\u001b[0m\u001b[0mNo_dist_gif\u001b[0m\u001b[0;34m)\u001b[0m\u001b[0;34m)\u001b[0m\u001b[0;34m\u001b[0m\u001b[0m\n",
      "\u001b[0;31mIndexError\u001b[0m: index 0 is out of bounds for axis 0 with size 0"
     ]
    }
   ],
   "source": [
    "distinct_gif=cur.fetchall()\n",
    "No_dist_gif=(np.array(distinct_gif)).astype(np.float)[0][0]\n",
    "print (\"Number of unique gifs =\" + str(No_dist_gif))\n"
   ]
  },
  {
   "cell_type": "code",
   "execution_count": null,
   "metadata": {
    "collapsed": true
   },
   "outputs": [],
   "source": [
    "cur.execute(\"\"\"select riffid,count(*) from ios_events group by riffid order by count(*) DESC limit 2000\"\"\")\n",
    "gif_counts=cur.fetchall()\n",
    "gif_count_array=[]"
   ]
  },
  {
   "cell_type": "code",
   "execution_count": null,
   "metadata": {},
   "outputs": [],
   "source": [
    "for ii in range(len(gif_counts)):\n",
    "        gif_count_array.append((np.array(gif_counts)).astype(np.float)[ii][1])"
   ]
  },
  {
   "cell_type": "code",
   "execution_count": null,
   "metadata": {},
   "outputs": [],
   "source": [
    "%matplotlib inline\n",
    "plt.figure(1)\n",
    "plt.plot(gif_count_array[1:], '.', color = \"blue\")\n",
    "plt.title('count for diff gifs')\n",
    "plt.xlabel('gifs')\n",
    "plt.ylabel('gif counts for the first 2000 top')\n",
    "#plt.savefig('gif.pdf',format='pdf')\n"
   ]
  },
  {
   "cell_type": "code",
   "execution_count": null,
   "metadata": {
    "collapsed": true
   },
   "outputs": [],
   "source": [
    "cur.execute(\"\"\"create table newtablepython as \n",
    "                select *,case when EXTRACT('EPOCH' FROM timestamp)- EXTRACT('EPOCH' FROM last_event) >= (60) \n",
    "                OR last_event IS NULL then 1 else 0 end as session_start \n",
    "                FROM (SELECT *,LAG(timestamp) OVER (PARTITION BY keyboardid ORDER BY timestamp) AS last_event \n",
    "                FROM ios_events) last\"\"\")\n"
   ]
  },
  {
   "cell_type": "code",
   "execution_count": null,
   "metadata": {
    "collapsed": true
   },
   "outputs": [],
   "source": [
    "cur.execute(\"\"\"create table NewBigTablepython as \n",
    "                SELECT *, SUM(session_start) \n",
    "                OVER (partition by keyboardid order by timestamp rows between unbounded preceding and current row ) \n",
    "                AS user_search_session_id ,   \n",
    "                SUM(session_start) \n",
    "                OVER (ORDER BY keyboardid, timestamp rows between unbounded preceding and current row) \n",
    "                AS all_search_session_ids \n",
    "                FROM newtablepython\"\"\")\n"
   ]
  },
  {
   "cell_type": "code",
   "execution_count": null,
   "metadata": {
    "collapsed": true
   },
   "outputs": [],
   "source": []
  }
 ],
 "metadata": {
  "kernelspec": {
   "display_name": "Python 2",
   "language": "python",
   "name": "python2"
  },
  "language_info": {
   "codemirror_mode": {
    "name": "ipython",
    "version": 2
   },
   "file_extension": ".py",
   "mimetype": "text/x-python",
   "name": "python",
   "nbconvert_exporter": "python",
   "pygments_lexer": "ipython2",
   "version": "2.7.13"
  }
 },
 "nbformat": 4,
 "nbformat_minor": 2
}
